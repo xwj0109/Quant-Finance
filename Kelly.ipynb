{
 "cells": [
  {
   "cell_type": "code",
   "execution_count": 13,
   "metadata": {},
   "outputs": [
    {
     "name": "stdout",
     "output_type": "stream",
     "text": [
      "[*********************100%***********************]  1 of 1 completed\n",
      "[*********************100%***********************]  1 of 1 completed\n",
      "[*********************100%***********************]  1 of 1 completed\n"
     ]
    },
    {
     "data": {
      "text/html": [
       "<div>\n",
       "<style scoped>\n",
       "    .dataframe tbody tr th:only-of-type {\n",
       "        vertical-align: middle;\n",
       "    }\n",
       "\n",
       "    .dataframe tbody tr th {\n",
       "        vertical-align: top;\n",
       "    }\n",
       "\n",
       "    .dataframe thead th {\n",
       "        text-align: right;\n",
       "    }\n",
       "</style>\n",
       "<table border=\"1\" class=\"dataframe\">\n",
       "  <thead>\n",
       "    <tr style=\"text-align: right;\">\n",
       "      <th></th>\n",
       "      <th>OIH</th>\n",
       "      <th>RTH</th>\n",
       "      <th>RKH</th>\n",
       "    </tr>\n",
       "    <tr>\n",
       "      <th>Date</th>\n",
       "      <th></th>\n",
       "      <th></th>\n",
       "      <th></th>\n",
       "    </tr>\n",
       "  </thead>\n",
       "  <tbody>\n",
       "    <tr>\n",
       "      <th>2001-05-17</th>\n",
       "      <td>NaN</td>\n",
       "      <td>NaN</td>\n",
       "      <td>NaN</td>\n",
       "    </tr>\n",
       "    <tr>\n",
       "      <th>2001-05-18</th>\n",
       "      <td>0.008198</td>\n",
       "      <td>-0.002551</td>\n",
       "      <td>-0.003441</td>\n",
       "    </tr>\n",
       "    <tr>\n",
       "      <th>2001-05-21</th>\n",
       "      <td>0.008975</td>\n",
       "      <td>0.022507</td>\n",
       "      <td>0.001295</td>\n",
       "    </tr>\n",
       "    <tr>\n",
       "      <th>2001-05-22</th>\n",
       "      <td>-0.015175</td>\n",
       "      <td>0.001501</td>\n",
       "      <td>0.018362</td>\n",
       "    </tr>\n",
       "    <tr>\n",
       "      <th>2001-05-23</th>\n",
       "      <td>-0.037514</td>\n",
       "      <td>-0.018981</td>\n",
       "      <td>-0.001100</td>\n",
       "    </tr>\n",
       "    <tr>\n",
       "      <th>...</th>\n",
       "      <td>...</td>\n",
       "      <td>...</td>\n",
       "      <td>...</td>\n",
       "    </tr>\n",
       "    <tr>\n",
       "      <th>2014-12-10</th>\n",
       "      <td>-0.035155</td>\n",
       "      <td>-0.011082</td>\n",
       "      <td>-0.018659</td>\n",
       "    </tr>\n",
       "    <tr>\n",
       "      <th>2014-12-11</th>\n",
       "      <td>-0.003700</td>\n",
       "      <td>0.014700</td>\n",
       "      <td>0.007534</td>\n",
       "    </tr>\n",
       "    <tr>\n",
       "      <th>2014-12-12</th>\n",
       "      <td>-0.023714</td>\n",
       "      <td>-0.003156</td>\n",
       "      <td>-0.026705</td>\n",
       "    </tr>\n",
       "    <tr>\n",
       "      <th>2016-01-27</th>\n",
       "      <td>-0.312196</td>\n",
       "      <td>0.066111</td>\n",
       "      <td>-0.994375</td>\n",
       "    </tr>\n",
       "    <tr>\n",
       "      <th>2016-09-28</th>\n",
       "      <td>0.253345</td>\n",
       "      <td>0.076933</td>\n",
       "      <td>-0.105691</td>\n",
       "    </tr>\n",
       "  </tbody>\n",
       "</table>\n",
       "<p>3417 rows × 3 columns</p>\n",
       "</div>"
      ],
      "text/plain": [
       "                 OIH       RTH       RKH\n",
       "Date                                    \n",
       "2001-05-17       NaN       NaN       NaN\n",
       "2001-05-18  0.008198 -0.002551 -0.003441\n",
       "2001-05-21  0.008975  0.022507  0.001295\n",
       "2001-05-22 -0.015175  0.001501  0.018362\n",
       "2001-05-23 -0.037514 -0.018981 -0.001100\n",
       "...              ...       ...       ...\n",
       "2014-12-10 -0.035155 -0.011082 -0.018659\n",
       "2014-12-11 -0.003700  0.014700  0.007534\n",
       "2014-12-12 -0.023714 -0.003156 -0.026705\n",
       "2016-01-27 -0.312196  0.066111 -0.994375\n",
       "2016-09-28  0.253345  0.076933 -0.105691\n",
       "\n",
       "[3417 rows x 3 columns]"
      ]
     },
     "execution_count": 13,
     "metadata": {},
     "output_type": "execute_result"
    }
   ],
   "source": [
    "import pandas as pd\n",
    "import numpy as np\n",
    "import yfinance as yf\n",
    "import pandas_datareader as pdr\n",
    "from datetime import datetime\n",
    "\n",
    "OIH = yf.download('OIH')['Adj Close']\n",
    "RKH = yf.download('RKH')['Adj Close']\n",
    "RTH = yf.download('RTH')['Adj Close']\n",
    "\n",
    "df = pd.merge(OIH, RTH, on='Date', suffixes=('_OIH', '_RTH'))\n",
    "df = pd.merge(df, RKH, on='Date')\n",
    "\n",
    "df.rename(columns={\"Adj Close\" : \"Adj Close_RKH\"},inplace=True)\n",
    "\n",
    "df.set_index('Date', inplace=True)\n",
    "df.sort_index(inplace=True)\n",
    "\n",
    "Daily_ret = df.loc[:,('Adj Close_OIH','Adj Close_RTH','Adj Close_RKH')].pct_change()\n",
    "Daily_ret.rename(columns={'Adj Close_OIH': 'OIH','Adj Close_RTH':'RTH','Adj Close_RKH':'RKH'},inplace=True)\n",
    "\n",
    "Daily_ret\n"
   ]
  },
  {
   "cell_type": "code",
   "execution_count": 14,
   "metadata": {},
   "outputs": [
    {
     "data": {
      "text/plain": [
       "OIH    0.044365\n",
       "RTH    0.050926\n",
       "RKH   -0.065439\n",
       "dtype: float64"
      ]
     },
     "execution_count": 14,
     "metadata": {},
     "output_type": "execute_result"
    }
   ],
   "source": [
    "ExcessRet = Daily_ret-0.04/252\n",
    "M =252*ExcessRet.mean()\n",
    "M"
   ]
  },
  {
   "cell_type": "code",
   "execution_count": 15,
   "metadata": {},
   "outputs": [
    {
     "data": {
      "text/html": [
       "<div>\n",
       "<style scoped>\n",
       "    .dataframe tbody tr th:only-of-type {\n",
       "        vertical-align: middle;\n",
       "    }\n",
       "\n",
       "    .dataframe tbody tr th {\n",
       "        vertical-align: top;\n",
       "    }\n",
       "\n",
       "    .dataframe thead th {\n",
       "        text-align: right;\n",
       "    }\n",
       "</style>\n",
       "<table border=\"1\" class=\"dataframe\">\n",
       "  <thead>\n",
       "    <tr style=\"text-align: right;\">\n",
       "      <th></th>\n",
       "      <th>OIH</th>\n",
       "      <th>RTH</th>\n",
       "      <th>RKH</th>\n",
       "    </tr>\n",
       "  </thead>\n",
       "  <tbody>\n",
       "    <tr>\n",
       "      <th>OIH</th>\n",
       "      <td>0.146408</td>\n",
       "      <td>0.034629</td>\n",
       "      <td>0.080959</td>\n",
       "    </tr>\n",
       "    <tr>\n",
       "      <th>RTH</th>\n",
       "      <td>0.034629</td>\n",
       "      <td>0.045887</td>\n",
       "      <td>0.041433</td>\n",
       "    </tr>\n",
       "    <tr>\n",
       "      <th>RKH</th>\n",
       "      <td>0.080959</td>\n",
       "      <td>0.041433</td>\n",
       "      <td>0.194883</td>\n",
       "    </tr>\n",
       "  </tbody>\n",
       "</table>\n",
       "</div>"
      ],
      "text/plain": [
       "          OIH       RTH       RKH\n",
       "OIH  0.146408  0.034629  0.080959\n",
       "RTH  0.034629  0.045887  0.041433\n",
       "RKH  0.080959  0.041433  0.194883"
      ]
     },
     "execution_count": 15,
     "metadata": {},
     "output_type": "execute_result"
    }
   ],
   "source": [
    "C = 252*ExcessRet.cov()\n",
    "C"
   ]
  },
  {
   "cell_type": "code",
   "execution_count": 18,
   "metadata": {},
   "outputs": [
    {
     "data": {
      "text/plain": [
       "array([ 0.39287686,  1.56416652, -0.83154648])"
      ]
     },
     "execution_count": 18,
     "metadata": {},
     "output_type": "execute_result"
    }
   ],
   "source": [
    "#Optimazation dot product ( inverse Covariance Matrix * Mean Excess returns)\n",
    "from numpy.linalg import inv\n",
    "F = np.dot(inv(C),M) \n",
    "F"
   ]
  },
  {
   "cell_type": "code",
   "execution_count": 20,
   "metadata": {},
   "outputs": [
    {
     "data": {
      "text/plain": [
       "0.11575141552636889"
      ]
     },
     "execution_count": 20,
     "metadata": {},
     "output_type": "execute_result"
    }
   ],
   "source": [
    "#long term growth g = risk free + optimazation vector transposed * ( Cov matrix * Optimazatino vector) / 2\n",
    "g = 0.04 + np.dot(F.T, np.dot(C, F))/2\n",
    "g"
   ]
  },
  {
   "cell_type": "code",
   "execution_count": 22,
   "metadata": {},
   "outputs": [
    {
     "data": {
      "text/plain": [
       "0.3892336458385089"
      ]
     },
     "execution_count": 22,
     "metadata": {},
     "output_type": "execute_result"
    }
   ],
   "source": [
    "S = np.sqrt(np.dot(F.T, np.dot(C,F)))\n",
    "S"
   ]
  },
  {
   "cell_type": "code",
   "execution_count": null,
   "metadata": {},
   "outputs": [],
   "source": []
  }
 ],
 "metadata": {
  "kernelspec": {
   "display_name": "Python 3",
   "language": "python",
   "name": "python3"
  },
  "language_info": {
   "codemirror_mode": {
    "name": "ipython",
    "version": 3
   },
   "file_extension": ".py",
   "mimetype": "text/x-python",
   "name": "python",
   "nbconvert_exporter": "python",
   "pygments_lexer": "ipython3",
   "version": "3.11.1"
  },
  "orig_nbformat": 4,
  "vscode": {
   "interpreter": {
    "hash": "aee8b7b246df8f9039afb4144a1f6fd8d2ca17a180786b69acc140d282b71a49"
   }
  }
 },
 "nbformat": 4,
 "nbformat_minor": 2
}
